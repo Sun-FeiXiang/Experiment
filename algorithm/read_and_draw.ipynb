#%%
import matplotlib.pylab as plt
import pandas as pd
from pandas import Series,DataFrame

# 应用k-core的
pd_data_IC_random_hep = pd.read_csv('../data/output/IC_random_hep.csv')
pd_data_IC_singleDiscount_hep = pd.read_csv('../data/output/IC_singleDiscount_hep.csv')
pd_data_IC_degree_hep = pd.read_csv('../data/output/IC_degree_hep.csv')
pd_data_IC_degreeDiscount_hep = pd.read_csv('../data/output/IC_degreeDiscount_hep.csv')
pd_data_IC_generalGreedy_hep = pd.read_csv('../data/output/IC_generalGreedy_hep.csv')
pd_data_IC_newGreedyIC_hep = pd.read_csv('../data/output/IC_newGreedyIC_hep.csv')

# 没用k-core的
pd_data_IC_degreeHeuristic_hep_init = pd.read_csv('../data/output/IC_degreeHeuristic_hep_init.csv')
pd_data_IC_degreeDiscount_hep_init = pd.read_csv('../data/output/IC_degreeDiscount_hep_init.csv')
pd_data_IC_randomHeuristic_hep_init = pd.read_csv('../data/output/IC_randomHeuristic_hep_init.csv')

#%%



#%%



#%%



