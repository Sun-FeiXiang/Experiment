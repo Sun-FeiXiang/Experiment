{
 "cells": [
  {
   "cell_type": "code",
   "execution_count": 19,
   "metadata": {
    "collapsed": true
   },
   "outputs": [],
   "source": [
    "# Import packages\n",
    "%matplotlib inline\n",
    "import matplotlib.pyplot as plt\n",
    "from random import uniform, seed\n",
    "import numpy as np\n",
    "import time\n",
    "from igraph import *"
   ]
  },
  {
   "cell_type": "code",
   "execution_count": 20,
   "outputs": [],
   "source": [
    "def IC(g,S,p=0.5,mc=1000):\n",
    "    \"\"\"\n",
    "    Input:  graph object, set of seed nodes, propagation probability\n",
    "            and the number of Monte-Carlo simulations\n",
    "    Output: average number of nodes influenced by the seed nodes\n",
    "    \"\"\"\n",
    "\n",
    "    # Loop over the Monte-Carlo Simulations\n",
    "    spread = []\n",
    "    for i in range(mc):\n",
    "        # Simulate propagation process\n",
    "        new_active, A = S[:], S[:]\n",
    "        while new_active:\n",
    "            new_ones = []\n",
    "            for node in new_active:\n",
    "                np.random.seed(i) # 随机数种子\n",
    "                success = np.random.uniform(0,1,len(g.neighbors(node,mode=\"out\"))) < p#生成（出邻居个数的随机数），并判断他们是否小于传播概率，返回的是[Tru,False,...]\n",
    "                new_ones += list(np.extract(success, g.neighbors(node,mode=\"out\")))#提取success中为True的节点\n",
    "            new_active = list(set(new_ones) - set(A))\n",
    "            # 添加新激活的节点到激活节点集中\n",
    "            A += new_active\n",
    "        spread.append(len(A))\n",
    "\n",
    "    return(np.mean(spread))\n",
    "\n",
    "def greedy(g,k,p=0.1,mc=1000):\n",
    "    \"\"\"\n",
    "    Input:  graph object, number of seed nodes\n",
    "    Output: optimal seed set, resulting spread, time for each iteration\n",
    "    \"\"\"\n",
    "\n",
    "    S, spread, timelapse, start_time = [], [], [], time.time()\n",
    "\n",
    "    # Find k nodes with largest marginal gain\n",
    "    for _ in range(k):\n",
    "\n",
    "        # Loop over nodes that are not yet in seed set to find biggest marginal gain\n",
    "        best_spread = 0\n",
    "        for j in set(range(g.vcount()))-set(S):\n",
    "\n",
    "            # Get the spread\n",
    "            s = IC(g,S + [j],p,mc)\n",
    "\n",
    "            # Update the winning node and spread so far\n",
    "            if s > best_spread:\n",
    "                best_spread, node = s, j\n",
    "\n",
    "        # Add the selected node to the seed set\n",
    "        S.append(node)\n",
    "\n",
    "        # Add estimated spread and elapsed time\n",
    "        spread.append(best_spread)\n",
    "        timelapse.append(time.time() - start_time)\n",
    "\n",
    "    return(S,spread,timelapse)\n",
    "\n",
    "def celf(g,k,p=0.1,mc=1000):\n",
    "    \"\"\"\n",
    "    Input:  graph object, number of seed nodes\n",
    "    Output: optimal seed set, resulting spread, time for each iteration\n",
    "    \"\"\"\n",
    "\n",
    "    # --------------------\n",
    "    # Find the first node with greedy algorithm\n",
    "    # --------------------\n",
    "\n",
    "    # Calculate the first iteration sorted list\n",
    "    start_time = time.time()\n",
    "    marg_gain = [IC(g,[node],p,mc) for node in range(g.vcount())]\n",
    "\n",
    "    # Create the sorted list of nodes and their marginal gain\n",
    "    Q = sorted(zip(range(g.vcount()),marg_gain), key=lambda x: x[1],reverse=True)\n",
    "\n",
    "    # Select the first node and remove from candidate list\n",
    "    S, spread, SPREAD = [Q[0][0]], Q[0][1], [Q[0][1]]\n",
    "    Q, LOOKUPS, timelapse = Q[1:], [g.vcount()], [time.time()-start_time]\n",
    "\n",
    "    # --------------------\n",
    "    # Find the next k-1 nodes using the list-sorting procedure\n",
    "    # --------------------\n",
    "\n",
    "    for _ in range(k-1):\n",
    "\n",
    "        check, node_lookup = False, 0\n",
    "\n",
    "        while not check:\n",
    "\n",
    "            # Count the number of times the spread is computed\n",
    "            node_lookup += 1\n",
    "\n",
    "            # Recalculate spread of top node\n",
    "            current = Q[0][0]\n",
    "\n",
    "            # Evaluate the spread function and store the marginal gain in the list\n",
    "            Q[0] = (current,IC(g,S+[current],p,mc) - spread)\n",
    "\n",
    "            # Re-sort the list\n",
    "            Q = sorted(Q, key = lambda x: x[1], reverse = True)\n",
    "\n",
    "            # Check if previous top node stayed on top after the sort\n",
    "            check = (Q[0][0] == current)\n",
    "\n",
    "        # Select the next node\n",
    "        spread += Q[0][1]\n",
    "        S.append(Q[0][0])\n",
    "        SPREAD.append(spread)\n",
    "        LOOKUPS.append(node_lookup)\n",
    "        timelapse.append(time.time() - start_time)\n",
    "\n",
    "        # Remove the selected node from the list\n",
    "        Q = Q[1:]\n",
    "\n",
    "    return(S,SPREAD,timelapse,LOOKUPS)\n"
   ],
   "metadata": {
    "collapsed": false,
    "pycharm": {
     "name": "#%%\n"
    }
   }
  },
  {
   "cell_type": "code",
   "execution_count": 23,
   "outputs": [
    {
     "ename": "TypeError",
     "evalue": "plotting not available",
     "output_type": "error",
     "traceback": [
      "\u001B[1;31m---------------------------------------------------------------------------\u001B[0m",
      "\u001B[1;31mTypeError\u001B[0m                                 Traceback (most recent call last)",
      "\u001B[1;32m<ipython-input-23-757be47f032a>\u001B[0m in \u001B[0;36m<module>\u001B[1;34m\u001B[0m\n\u001B[0;32m     10\u001B[0m \u001B[1;31m# Plot graph\u001B[0m\u001B[1;33m\u001B[0m\u001B[1;33m\u001B[0m\u001B[1;33m\u001B[0m\u001B[0m\n\u001B[0;32m     11\u001B[0m \u001B[0mg\u001B[0m\u001B[1;33m.\u001B[0m\u001B[0mvs\u001B[0m\u001B[1;33m[\u001B[0m\u001B[1;34m\"label\"\u001B[0m\u001B[1;33m]\u001B[0m\u001B[1;33m,\u001B[0m \u001B[0mg\u001B[0m\u001B[1;33m.\u001B[0m\u001B[0mes\u001B[0m\u001B[1;33m[\u001B[0m\u001B[1;34m\"color\"\u001B[0m\u001B[1;33m]\u001B[0m\u001B[1;33m,\u001B[0m \u001B[0mg\u001B[0m\u001B[1;33m.\u001B[0m\u001B[0mvs\u001B[0m\u001B[1;33m[\u001B[0m\u001B[1;34m\"color\"\u001B[0m\u001B[1;33m]\u001B[0m \u001B[1;33m=\u001B[0m \u001B[0mrange\u001B[0m\u001B[1;33m(\u001B[0m\u001B[1;36m10\u001B[0m\u001B[1;33m)\u001B[0m\u001B[1;33m,\u001B[0m \u001B[1;34m\"#B3CDE3\"\u001B[0m\u001B[1;33m,\u001B[0m \u001B[1;34m\"#FBB4AE\"\u001B[0m\u001B[1;33m\u001B[0m\u001B[1;33m\u001B[0m\u001B[0m\n\u001B[1;32m---> 12\u001B[1;33m \u001B[0mplot\u001B[0m\u001B[1;33m(\u001B[0m\u001B[0mg\u001B[0m\u001B[1;33m,\u001B[0m\u001B[0mbbox\u001B[0m \u001B[1;33m=\u001B[0m \u001B[1;33m(\u001B[0m\u001B[1;36m200\u001B[0m\u001B[1;33m,\u001B[0m\u001B[1;36m200\u001B[0m\u001B[1;33m)\u001B[0m\u001B[1;33m,\u001B[0m\u001B[0mmargin\u001B[0m \u001B[1;33m=\u001B[0m \u001B[1;36m20\u001B[0m\u001B[1;33m,\u001B[0m\u001B[0mlayout\u001B[0m \u001B[1;33m=\u001B[0m \u001B[0mg\u001B[0m\u001B[1;33m.\u001B[0m\u001B[0mlayout\u001B[0m\u001B[1;33m(\u001B[0m\u001B[1;34m\"kk\"\u001B[0m\u001B[1;33m)\u001B[0m\u001B[1;33m)\u001B[0m\u001B[1;33m.\u001B[0m\u001B[0msave\u001B[0m\u001B[1;33m(\u001B[0m\u001B[1;34m'bb.png'\u001B[0m\u001B[1;33m)\u001B[0m\u001B[1;33m\u001B[0m\u001B[1;33m\u001B[0m\u001B[0m\n\u001B[0m\u001B[0;32m     13\u001B[0m \u001B[1;33m\u001B[0m\u001B[0m\n",
      "\u001B[1;32m~\\.conda\\envs\\py37\\lib\\site-packages\\igraph\\drawing\\__init__.py\u001B[0m in \u001B[0;36mplot\u001B[1;34m(obj, target, bbox, *args, **kwds)\u001B[0m\n\u001B[0;32m    453\u001B[0m         \u001B[0mbbox\u001B[0m \u001B[1;33m=\u001B[0m \u001B[0mBoundingBox\u001B[0m\u001B[1;33m(\u001B[0m\u001B[0mbbox\u001B[0m\u001B[1;33m)\u001B[0m\u001B[1;33m\u001B[0m\u001B[1;33m\u001B[0m\u001B[0m\n\u001B[0;32m    454\u001B[0m \u001B[1;33m\u001B[0m\u001B[0m\n\u001B[1;32m--> 455\u001B[1;33m     \u001B[0mresult\u001B[0m \u001B[1;33m=\u001B[0m \u001B[0mPlot\u001B[0m\u001B[1;33m(\u001B[0m\u001B[0mtarget\u001B[0m\u001B[1;33m,\u001B[0m \u001B[0mbbox\u001B[0m\u001B[1;33m,\u001B[0m \u001B[0mbackground\u001B[0m\u001B[1;33m=\u001B[0m\u001B[0mkwds\u001B[0m\u001B[1;33m.\u001B[0m\u001B[0mget\u001B[0m\u001B[1;33m(\u001B[0m\u001B[1;34m\"background\"\u001B[0m\u001B[1;33m,\u001B[0m \u001B[1;34m\"white\"\u001B[0m\u001B[1;33m)\u001B[0m\u001B[1;33m)\u001B[0m\u001B[1;33m\u001B[0m\u001B[1;33m\u001B[0m\u001B[0m\n\u001B[0m\u001B[0;32m    456\u001B[0m \u001B[1;33m\u001B[0m\u001B[0m\n\u001B[0;32m    457\u001B[0m     \u001B[1;32mif\u001B[0m \u001B[1;34m\"margin\"\u001B[0m \u001B[1;32min\u001B[0m \u001B[0mkwds\u001B[0m\u001B[1;33m:\u001B[0m\u001B[1;33m\u001B[0m\u001B[1;33m\u001B[0m\u001B[0m\n",
      "\u001B[1;32m~\\.conda\\envs\\py37\\lib\\site-packages\\igraph\\drawing\\__init__.py\u001B[0m in \u001B[0;36m__init__\u001B[1;34m(self, target, bbox, palette, background)\u001B[0m\n\u001B[0;32m    118\u001B[0m         \"\"\"\n\u001B[0;32m    119\u001B[0m         \u001B[0mself\u001B[0m\u001B[1;33m.\u001B[0m\u001B[0m_filename\u001B[0m \u001B[1;33m=\u001B[0m \u001B[1;32mNone\u001B[0m\u001B[1;33m\u001B[0m\u001B[1;33m\u001B[0m\u001B[0m\n\u001B[1;32m--> 120\u001B[1;33m         \u001B[0mself\u001B[0m\u001B[1;33m.\u001B[0m\u001B[0m_surface_was_created\u001B[0m \u001B[1;33m=\u001B[0m \u001B[1;32mnot\u001B[0m \u001B[0misinstance\u001B[0m\u001B[1;33m(\u001B[0m\u001B[0mtarget\u001B[0m\u001B[1;33m,\u001B[0m \u001B[0mcairo\u001B[0m\u001B[1;33m.\u001B[0m\u001B[0mSurface\u001B[0m\u001B[1;33m)\u001B[0m\u001B[1;33m\u001B[0m\u001B[1;33m\u001B[0m\u001B[0m\n\u001B[0m\u001B[0;32m    121\u001B[0m         \u001B[0mself\u001B[0m\u001B[1;33m.\u001B[0m\u001B[0m_need_tmpfile\u001B[0m \u001B[1;33m=\u001B[0m \u001B[1;32mFalse\u001B[0m\u001B[1;33m\u001B[0m\u001B[1;33m\u001B[0m\u001B[0m\n\u001B[0;32m    122\u001B[0m \u001B[1;33m\u001B[0m\u001B[0m\n",
      "\u001B[1;32m~\\.conda\\envs\\py37\\lib\\site-packages\\igraph\\drawing\\utils.py\u001B[0m in \u001B[0;36m__getattr__\u001B[1;34m(self, _)\u001B[0m\n\u001B[0;32m    394\u001B[0m \u001B[1;33m\u001B[0m\u001B[0m\n\u001B[0;32m    395\u001B[0m     \u001B[1;32mdef\u001B[0m \u001B[0m__getattr__\u001B[0m\u001B[1;33m(\u001B[0m\u001B[0mself\u001B[0m\u001B[1;33m,\u001B[0m \u001B[0m_\u001B[0m\u001B[1;33m)\u001B[0m\u001B[1;33m:\u001B[0m\u001B[1;33m\u001B[0m\u001B[1;33m\u001B[0m\u001B[0m\n\u001B[1;32m--> 396\u001B[1;33m         \u001B[1;32mraise\u001B[0m \u001B[0mTypeError\u001B[0m\u001B[1;33m(\u001B[0m\u001B[1;34m\"plotting not available\"\u001B[0m\u001B[1;33m)\u001B[0m\u001B[1;33m\u001B[0m\u001B[1;33m\u001B[0m\u001B[0m\n\u001B[0m\u001B[0;32m    397\u001B[0m     \u001B[1;32mdef\u001B[0m \u001B[0m__call__\u001B[0m\u001B[1;33m(\u001B[0m\u001B[0mself\u001B[0m\u001B[1;33m,\u001B[0m \u001B[0m_\u001B[0m\u001B[1;33m)\u001B[0m\u001B[1;33m:\u001B[0m\u001B[1;33m\u001B[0m\u001B[1;33m\u001B[0m\u001B[0m\n\u001B[0;32m    398\u001B[0m         \u001B[1;32mraise\u001B[0m \u001B[0mTypeError\u001B[0m\u001B[1;33m(\u001B[0m\u001B[1;34m\"plotting not available\"\u001B[0m\u001B[1;33m)\u001B[0m\u001B[1;33m\u001B[0m\u001B[1;33m\u001B[0m\u001B[0m\n",
      "\u001B[1;31mTypeError\u001B[0m: plotting not available"
     ]
    }
   ],
   "source": [
    "# Create simple network with 0 and 1 as the influential nodes\n",
    "source = [0,0,0,0,0,0,0,0,1,1,1,1,1,1,1,1,2,3,4,5]\n",
    "target = [2,3,4,5,6,7,8,9,2,3,4,5,6,7,8,9,6,7,8,9]\n",
    "\n",
    "g = Graph(directed=True)\n",
    "g.add_vertices(range(10))\n",
    "g.add_edges(zip(source,target))\n",
    "\n",
    "# Plot graph\n",
    "g.vs[\"label\"], g.es[\"color\"], g.vs[\"color\"] = range(10), \"#B3CDE3\", \"#FBB4AE\"\n",
    "plot(g,bbox = (200,200),margin = 20,layout = g.layout(\"kk\")).save('bb.png')"
   ],
   "metadata": {
    "collapsed": false,
    "pycharm": {
     "name": "#%%\n"
    }
   }
  },
  {
   "cell_type": "code",
   "execution_count": null,
   "outputs": [],
   "source": [],
   "metadata": {
    "collapsed": false,
    "pycharm": {
     "name": "#%%\n"
    }
   }
  },
  {
   "cell_type": "code",
   "execution_count": null,
   "outputs": [],
   "source": [],
   "metadata": {
    "collapsed": false,
    "pycharm": {
     "name": "#%%\n"
    }
   }
  }
 ],
 "metadata": {
  "kernelspec": {
   "display_name": "Python 3",
   "language": "python",
   "name": "python3"
  },
  "language_info": {
   "codemirror_mode": {
    "name": "ipython",
    "version": 2
   },
   "file_extension": ".py",
   "mimetype": "text/x-python",
   "name": "python",
   "nbconvert_exporter": "python",
   "pygments_lexer": "ipython2",
   "version": "2.7.6"
  }
 },
 "nbformat": 4,
 "nbformat_minor": 0
}